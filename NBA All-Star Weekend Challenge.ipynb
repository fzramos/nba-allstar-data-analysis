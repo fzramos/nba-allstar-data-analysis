{
 "cells": [
  {
   "cell_type": "markdown",
   "metadata": {},
   "source": [
    "# NBA All-Star Weekend Challenge\n",
    "\n",
    "Your task...answer the following questions given the dataset given about the NBA All-Star Game from the year 2000 - 2016\n",
    "\n",
    "Become more familiar with the dataset <a href=\"https://www.kaggle.com/fmejia21/nba-all-star-game-20002016\">here</a>\n",
    "\n",
    "Once completed, commit this notebook to github and submit the link to the google classroom assignment.\n",
    "\n",
    "<a href=\"https://classroom.google.com/u/2/c/NDc4MzEzMjI5Nzla/a/NTE3OTYxNzM2OTNa/details\">Google Classroom</a>"
   ]
  },
  {
   "cell_type": "code",
   "execution_count": 1,
   "metadata": {},
   "outputs": [
    {
     "data": {
      "text/html": [
       "<div>\n",
       "<style scoped>\n",
       "    .dataframe tbody tr th:only-of-type {\n",
       "        vertical-align: middle;\n",
       "    }\n",
       "\n",
       "    .dataframe tbody tr th {\n",
       "        vertical-align: top;\n",
       "    }\n",
       "\n",
       "    .dataframe thead th {\n",
       "        text-align: right;\n",
       "    }\n",
       "</style>\n",
       "<table border=\"1\" class=\"dataframe\">\n",
       "  <thead>\n",
       "    <tr style=\"text-align: right;\">\n",
       "      <th></th>\n",
       "      <th>Year</th>\n",
       "      <th>Player</th>\n",
       "      <th>Pos</th>\n",
       "      <th>HT</th>\n",
       "      <th>WT</th>\n",
       "      <th>Team</th>\n",
       "      <th>Selection Type</th>\n",
       "      <th>NBA Draft Status</th>\n",
       "      <th>Nationality</th>\n",
       "    </tr>\n",
       "  </thead>\n",
       "  <tbody>\n",
       "    <tr>\n",
       "      <th>0</th>\n",
       "      <td>2016</td>\n",
       "      <td>Stephen Curry</td>\n",
       "      <td>G</td>\n",
       "      <td>6-3</td>\n",
       "      <td>190</td>\n",
       "      <td>Golden State Warriors</td>\n",
       "      <td>Western All-Star Fan Vote Selection</td>\n",
       "      <td>2009 Rnd 1 Pick 7</td>\n",
       "      <td>United States</td>\n",
       "    </tr>\n",
       "    <tr>\n",
       "      <th>1</th>\n",
       "      <td>2016</td>\n",
       "      <td>James Harden</td>\n",
       "      <td>SG</td>\n",
       "      <td>6-5</td>\n",
       "      <td>220</td>\n",
       "      <td>Houston Rockets</td>\n",
       "      <td>Western All-Star Fan Vote Selection</td>\n",
       "      <td>2009 Rnd 1 Pick 3</td>\n",
       "      <td>United States</td>\n",
       "    </tr>\n",
       "    <tr>\n",
       "      <th>2</th>\n",
       "      <td>2016</td>\n",
       "      <td>Kevin Durant</td>\n",
       "      <td>SF</td>\n",
       "      <td>6-9</td>\n",
       "      <td>240</td>\n",
       "      <td>Golden State Warriors</td>\n",
       "      <td>Western All-Star Fan Vote Selection</td>\n",
       "      <td>2007 Rnd 1 Pick 2</td>\n",
       "      <td>United States</td>\n",
       "    </tr>\n",
       "    <tr>\n",
       "      <th>3</th>\n",
       "      <td>2016</td>\n",
       "      <td>Kawhi Leonard</td>\n",
       "      <td>F</td>\n",
       "      <td>6-7</td>\n",
       "      <td>230</td>\n",
       "      <td>San Antonio Spurs</td>\n",
       "      <td>Western All-Star Fan Vote Selection</td>\n",
       "      <td>2011 Rnd 1 Pick 15</td>\n",
       "      <td>United States</td>\n",
       "    </tr>\n",
       "    <tr>\n",
       "      <th>4</th>\n",
       "      <td>2016</td>\n",
       "      <td>Anthony Davis</td>\n",
       "      <td>PF</td>\n",
       "      <td>6-11</td>\n",
       "      <td>253</td>\n",
       "      <td>New Orleans Pelicans</td>\n",
       "      <td>Western All-Star Fan Vote Selection</td>\n",
       "      <td>2012 Rnd 1 Pick 1</td>\n",
       "      <td>United States</td>\n",
       "    </tr>\n",
       "  </tbody>\n",
       "</table>\n",
       "</div>"
      ],
      "text/plain": [
       "   Year         Player Pos    HT   WT                   Team  \\\n",
       "0  2016  Stephen Curry   G   6-3  190  Golden State Warriors   \n",
       "1  2016   James Harden  SG   6-5  220        Houston Rockets   \n",
       "2  2016   Kevin Durant  SF   6-9  240  Golden State Warriors   \n",
       "3  2016  Kawhi Leonard   F   6-7  230      San Antonio Spurs   \n",
       "4  2016  Anthony Davis  PF  6-11  253   New Orleans Pelicans   \n",
       "\n",
       "                        Selection Type    NBA Draft Status    Nationality  \n",
       "0  Western All-Star Fan Vote Selection   2009 Rnd 1 Pick 7  United States  \n",
       "1  Western All-Star Fan Vote Selection   2009 Rnd 1 Pick 3  United States  \n",
       "2  Western All-Star Fan Vote Selection   2007 Rnd 1 Pick 2  United States  \n",
       "3  Western All-Star Fan Vote Selection  2011 Rnd 1 Pick 15  United States  \n",
       "4  Western All-Star Fan Vote Selection   2012 Rnd 1 Pick 1  United States  "
      ]
     },
     "execution_count": 1,
     "metadata": {},
     "output_type": "execute_result"
    }
   ],
   "source": [
    "import numpy as np\n",
    "import pandas as pd\n",
    "import matplotlib.pyplot as plt\n",
    "\n",
    "nba_allstar = pd.read_csv('../files/NBA All Stars 2000-2016 - Sheet1.csv')\n",
    "pd.set_option('display.max_columns', None)\n",
    "nba_allstar.head()"
   ]
  },
  {
   "cell_type": "markdown",
   "metadata": {},
   "source": [
    "# What is the average weight of all players who played during this time?"
   ]
  },
  {
   "cell_type": "code",
   "execution_count": 7,
   "metadata": {},
   "outputs": [
    {
     "data": {
      "text/plain": [
       "228.75170842824602"
      ]
     },
     "execution_count": 7,
     "metadata": {},
     "output_type": "execute_result"
    }
   ],
   "source": [
    "weight_avg = nba_allstar['WT'].agg('mean')\n",
    "weight_avg"
   ]
  },
  {
   "cell_type": "markdown",
   "metadata": {},
   "source": [
    "# What team is represented the most during this time?"
   ]
  },
  {
   "cell_type": "code",
   "execution_count": 12,
   "metadata": {},
   "outputs": [
    {
     "data": {
      "text/plain": [
       "Player    28\n",
       "Name: Miami Heat, dtype: int64"
      ]
     },
     "execution_count": 12,
     "metadata": {},
     "output_type": "execute_result"
    }
   ],
   "source": [
    "team_count = nba_allstar[['Team', 'Player']].groupby('Team').count().sort_values('Player', ascending=False)\n",
    "team_count.iloc[0]"
   ]
  },
  {
   "cell_type": "markdown",
   "metadata": {},
   "source": [
    "# What draft class is represeted the most during this time?"
   ]
  },
  {
   "cell_type": "code",
   "execution_count": 49,
   "metadata": {},
   "outputs": [
    {
     "name": "stdout",
     "output_type": "stream",
     "text": [
      "NBA Draft Status\n",
      "1996    63\n",
      "2003    51\n",
      "1998    36\n",
      "2001    27\n",
      "1997    25\n",
      "1999    19\n",
      "1995    19\n",
      "2009    19\n",
      "2006    19\n",
      "2002    18\n",
      "2007    17\n",
      "2008    17\n",
      "2005    16\n",
      "2011    15\n",
      "2004    13\n",
      "2010    12\n",
      "1992    11\n",
      "1994    10\n",
      "2012     9\n",
      "1993     6\n",
      "1990     4\n",
      "2000     3\n",
      "1985     2\n",
      "1984     2\n",
      "1991     2\n",
      "1989     1\n",
      "1988     1\n",
      "1987     1\n",
      "2013     1\n",
      "Name: NBA Draft Status, dtype: int64\n",
      "\n",
      "The top draft class in teams of All-Start player appearances is: 1996\n"
     ]
    }
   ],
   "source": [
    "players_draftclass = nba_allstar['NBA Draft Status'].str.split().str[0]\n",
    "players_draftclass.groupby(players_draftclass).count().sort_values(ascending=False)\n",
    "top_draft_classes = players_draftclass.groupby(players_draftclass).count().sort_values(ascending=False)\n",
    "print(top_draft_classes, end=\"\\n\\n\")\n",
    "print(f'The top draft class in teams of All-Start player appearances is: 1996')"
   ]
  },
  {
   "cell_type": "markdown",
   "metadata": {},
   "source": [
    "# Are foriegn players more prevalent in the All-Star Game during this time?"
   ]
  },
  {
   "cell_type": "code",
   "execution_count": 2,
   "metadata": {},
   "outputs": [
    {
     "name": "stdout",
     "output_type": "stream",
     "text": [
      "Foreign     74\n",
      "USA        365\n",
      "Name: Player, dtype: int64\n",
      "\n",
      "There are more US-born players in the All-Star games of this time period.\n"
     ]
    }
   ],
   "source": [
    "# creating a boolean mask if they are Us-born or not\n",
    "us_based = np.where(nba_allstar['Nationality'] == \"United States\", \"USA\",\"Foreign\")\n",
    "\n",
    "# using boolean mask to group players and count them\n",
    "print(nba_allstar.groupby(us_based)['Player'].count(), end='\\n\\n')\n",
    "\n",
    "print(\"There are more US-born players in the All-Star games of this time period.\")"
   ]
  },
  {
   "cell_type": "markdown",
   "metadata": {},
   "source": [
    "# How often are the Western All-Stars voted in by fans?"
   ]
  },
  {
   "cell_type": "code",
   "execution_count": 3,
   "metadata": {},
   "outputs": [
    {
     "name": "stdout",
     "output_type": "stream",
     "text": [
      "                                        Year  Player  Pos   HT   WT  Team  \\\n",
      "Selection Type                                                              \n",
      "Eastern All-Star Coaches Selection       119     119  119  119  119   119   \n",
      "Eastern All-Star Fan Vote Selection       85      85   85   85   85    85   \n",
      "Eastern All-Star Replacement Selection    16      16   16   16   16    16   \n",
      "Western All-Star Coaches Selection       119     119  119  119  119   119   \n",
      "Western All-Star Fan Vote Selection       85      85   85   85   85    85   \n",
      "Western All-Star Replacement Selection    15      15   15   15   15    15   \n",
      "\n",
      "                                        NBA Draft Status  Nationality  \n",
      "Selection Type                                                         \n",
      "Eastern All-Star Coaches Selection                   119          119  \n",
      "Eastern All-Star Fan Vote Selection                   85           85  \n",
      "Eastern All-Star Replacement Selection                16           16  \n",
      "Western All-Star Coaches Selection                   119          119  \n",
      "Western All-Star Fan Vote Selection                   85           85  \n",
      "Western All-Star Replacement Selection                15           15  \n"
     ]
    }
   ],
   "source": [
    "print(nba_allstar.groupby('Selection Type').count())"
   ]
  },
  {
   "cell_type": "markdown",
   "metadata": {},
   "source": [
    "# How many times does Steph Curry make the All-Star game during this time period?"
   ]
  },
  {
   "cell_type": "code",
   "execution_count": null,
   "metadata": {},
   "outputs": [],
   "source": []
  },
  {
   "cell_type": "markdown",
   "metadata": {},
   "source": [
    "# How many Shooting Gaurds have made the All-Star game during this time?"
   ]
  },
  {
   "cell_type": "code",
   "execution_count": null,
   "metadata": {},
   "outputs": [],
   "source": []
  },
  {
   "cell_type": "markdown",
   "metadata": {},
   "source": [
    "# How many Chicago Bulls players have made the All-Star Game during this time period?"
   ]
  },
  {
   "cell_type": "code",
   "execution_count": null,
   "metadata": {},
   "outputs": [],
   "source": []
  }
 ],
 "metadata": {
  "kernelspec": {
   "display_name": "Python 3",
   "language": "python",
   "name": "python3"
  },
  "language_info": {
   "codemirror_mode": {
    "name": "ipython",
    "version": 3
   },
   "file_extension": ".py",
   "mimetype": "text/x-python",
   "name": "python",
   "nbconvert_exporter": "python",
   "pygments_lexer": "ipython3",
   "version": "3.7.9"
  }
 },
 "nbformat": 4,
 "nbformat_minor": 2
}
